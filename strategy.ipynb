{
 "cells": [
  {
   "cell_type": "code",
   "execution_count": null,
   "id": "8cd23ebd",
   "metadata": {},
   "outputs": [],
   "source": [
    "# FETCHING THE DATA\n",
    "import os\n",
    "import pandas as pd\n",
    "import asyncio\n",
    "import cybotrade_datasource\n",
    "from datetime import datetime, timezone\n",
    "\n",
    "API_KEY = \"hWHSN90KeaFig5qpHxqS1UyI7Z2PpyUcwZso2CoyV4woGLrM\"\n",
    "\n",
    "# API_KEY = os.environ[\"API_KEY\"]\n",
    "async def main():\n",
    "    data = await cybotrade_datasource.query_paginated(\n",
    "        api_key=API_KEY, \n",
    "        topic='cryptoquant|btc/inter-entity-flows/miner-to-miner?from_miner=f2pool&to_miner=all_miner&window=hour', \n",
    "        # above topic is just for testing\n",
    "        # topic format must follow above, the endpoint need to refer to the respective document, endpoint is after |\n",
    "        start_time=datetime(year=2024, month=1, day=1, tzinfo=timezone.utc),\n",
    "        end_time=datetime(year=2025, month=1, day=1, tzinfo=timezone.utc)\n",
    "    )\n",
    "    df = pd.DataFrame(data)\n",
    "    print(df)\n",
    "    \n",
    "\n",
    "await main()"
   ]
  }
 ],
 "metadata": {
  "kernelspec": {
   "display_name": "Python 3",
   "language": "python",
   "name": "python3"
  },
  "language_info": {
   "name": "python",
   "version": "3.12.1"
  }
 },
 "nbformat": 4,
 "nbformat_minor": 5
}
